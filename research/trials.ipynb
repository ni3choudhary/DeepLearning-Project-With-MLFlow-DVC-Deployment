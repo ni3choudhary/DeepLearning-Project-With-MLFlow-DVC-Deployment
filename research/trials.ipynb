{
 "cells": [
  {
   "cell_type": "markdown",
   "metadata": {},
   "source": [
    "Download Data from Google Drive"
   ]
  },
  {
   "cell_type": "code",
   "execution_count": 1,
   "metadata": {},
   "outputs": [],
   "source": [
    "import gdown"
   ]
  },
  {
   "cell_type": "code",
   "execution_count": 5,
   "metadata": {},
   "outputs": [
    {
     "name": "stderr",
     "output_type": "stream",
     "text": [
      "Downloading...\n",
      "From (uriginal): https://drive.google.com/uc?/export=download&id=17bCzkEA2IdlnW8T1HoFTPdBAxhx9r4kk\n",
      "From (redirected): https://drive.google.com/uc?/export=download&id=17bCzkEA2IdlnW8T1HoFTPdBAxhx9r4kk&confirm=t&uuid=c46390ef-82f6-432d-9400-03904d266040\n",
      "To: n:\\DataScience\\MyProjects\\DeepLearning-Project-With-MLFlow-DVC-Deployment\\research\\Kidney-CT-Scan-Data.zip\n",
      "100%|██████████| 1.63G/1.63G [02:56<00:00, 9.23MB/s]\n"
     ]
    },
    {
     "data": {
      "text/plain": [
       "'Kidney-CT-Scan-Data.zip'"
      ]
     },
     "execution_count": 5,
     "metadata": {},
     "output_type": "execute_result"
    }
   ],
   "source": [
    "\n",
    "URL = \"https://drive.google.com/file/d/17bCzkEA2IdlnW8T1HoFTPdBAxhx9r4kk/view?usp=sharing\"\n",
    "FILE_ID = URL.split(\"/\")[-2]\n",
    "\n",
    "PREFIX_URL = \"https://drive.google.com/uc?/export=download&id=\"\n",
    "\n",
    "DOWNLOAD_URL = f'{PREFIX_URL}{FILE_ID}'\n",
    "gdown.download(DOWNLOAD_URL,  \"Kidney-CT-Scan-Data.zip\")\n"
   ]
  },
  {
   "cell_type": "code",
   "execution_count": null,
   "metadata": {},
   "outputs": [],
   "source": []
  }
 ],
 "metadata": {
  "kernelspec": {
   "display_name": "venv",
   "language": "python",
   "name": "python3"
  },
  "language_info": {
   "codemirror_mode": {
    "name": "ipython",
    "version": 3
   },
   "file_extension": ".py",
   "mimetype": "text/x-python",
   "name": "python",
   "nbconvert_exporter": "python",
   "pygments_lexer": "ipython3",
   "version": "3.10.4"
  },
  "orig_nbformat": 4
 },
 "nbformat": 4,
 "nbformat_minor": 2
}
