{
 "cells": [
  {
   "cell_type": "code",
   "execution_count": 1,
   "metadata": {},
   "outputs": [
    {
     "data": {
      "text/plain": [
       "'n:\\\\DataScience\\\\MyProjects\\\\DeepLearning-Project-With-MLFlow-DVC-Deployment\\\\research'"
      ]
     },
     "execution_count": 1,
     "metadata": {},
     "output_type": "execute_result"
    }
   ],
   "source": [
    "%pwd"
   ]
  },
  {
   "cell_type": "code",
   "execution_count": 2,
   "metadata": {},
   "outputs": [
    {
     "data": {
      "text/plain": [
       "'n:\\\\DataScience\\\\MyProjects\\\\DeepLearning-Project-With-MLFlow-DVC-Deployment'"
      ]
     },
     "execution_count": 2,
     "metadata": {},
     "output_type": "execute_result"
    }
   ],
   "source": [
    "import os\n",
    "os.chdir('../')\n",
    "%pwd"
   ]
  },
  {
   "cell_type": "markdown",
   "metadata": {},
   "source": [
    "### Update the entity"
   ]
  },
  {
   "cell_type": "code",
   "execution_count": 3,
   "metadata": {},
   "outputs": [],
   "source": [
    "# import required libraries\n",
    "from dataclasses import dataclass\n",
    "from pathlib import Path\n",
    "\n",
    "\n",
    "@dataclass(frozen=True)\n",
    "class DataIngestionConfig:\n",
    "    root_dir: Path\n",
    "    source_URL: str\n",
    "    local_data_file: Path\n",
    "    unzip_dir: Path"
   ]
  },
  {
   "cell_type": "markdown",
   "metadata": {},
   "source": [
    "### Update the configuration manager in src config"
   ]
  },
  {
   "cell_type": "code",
   "execution_count": 4,
   "metadata": {},
   "outputs": [],
   "source": [
    "from DLProject.constants import *\n",
    "from DLProject.utils.common import read_yaml, create_directories"
   ]
  },
  {
   "cell_type": "code",
   "execution_count": 5,
   "metadata": {},
   "outputs": [],
   "source": [
    "class ConfigurationManager:\n",
    "    def __init__(\n",
    "        self,\n",
    "        config_filepath = CONFIG_FILE_PATH,\n",
    "        params_filepath = PARAMS_FILE_PATH):\n",
    "\n",
    "        self.config = read_yaml(config_filepath)\n",
    "        self.params = read_yaml(params_filepath)\n",
    "\n",
    "        create_directories([self.config.artifacts_root])\n",
    "\n",
    "    \n",
    "    def get_data_ingestion_config(self) -> DataIngestionConfig:\n",
    "        config = self.config.data_ingestion\n",
    "\n",
    "        create_directories([config.root_dir])\n",
    "\n",
    "        data_ingestion_config = DataIngestionConfig(\n",
    "            root_dir=config.root_dir,\n",
    "            source_URL=config.source_URL,\n",
    "            local_data_file=config.local_data_file,\n",
    "            unzip_dir=config.unzip_dir \n",
    "        )\n",
    "\n",
    "        return data_ingestion_config"
   ]
  },
  {
   "cell_type": "markdown",
   "metadata": {},
   "source": [
    "### Update the components"
   ]
  },
  {
   "cell_type": "code",
   "execution_count": 6,
   "metadata": {},
   "outputs": [],
   "source": [
    "import os\n",
    "import zipfile\n",
    "import gdown\n",
    "from DLProject import logger\n",
    "from DLProject.utils.common import get_size"
   ]
  },
  {
   "cell_type": "code",
   "execution_count": 7,
   "metadata": {},
   "outputs": [],
   "source": [
    "class DataIngestion:\n",
    "    def __init__(self, config: DataIngestionConfig):\n",
    "        self.config = config\n",
    "\n",
    "    \n",
    "    def download_file(self)-> str:\n",
    "        '''\n",
    "        Fetch data from the url\n",
    "        '''\n",
    "\n",
    "        dataset_url = self.config.source_URL\n",
    "        zip_download_dir = self.config.local_data_file\n",
    "        root_download_dir = self.config.root_dir\n",
    "\n",
    "        os.makedirs(root_download_dir, exist_ok=True)\n",
    "        logger.info(f\"Downloading data from {dataset_url} into file {zip_download_dir}\")\n",
    "\n",
    "        FILE_ID = dataset_url.split(\"/\")[-2]\n",
    "        PREFIX_URL = \"https://drive.google.com/uc?/export=download&id=\"\n",
    "\n",
    "        DOWNLOAD_URL = f'{PREFIX_URL}{FILE_ID}'\n",
    "        try:\n",
    "            gdown.download(DOWNLOAD_URL,  zip_download_dir)\n",
    "            logger.info(f\"Downloaded data from {dataset_url} into file {zip_download_dir}\")\n",
    "\n",
    "        except Exception as e:\n",
    "            logger.error(f\"Error downloading data from {dataset_url}: {e}\")\n",
    "            raise ValueError(f\"Failed to download data from {dataset_url}\")\n",
    "\n",
    "    def extract_zip_file(self):\n",
    "        \"\"\"\n",
    "        Extracts the zip file into the data directory.\n",
    "\n",
    "        Returns:\n",
    "            None\n",
    "        \"\"\"\n",
    "        unzip_path = self.config.unzip_dir\n",
    "        os.makedirs(unzip_path, exist_ok=True)\n",
    "\n",
    "        zip_file_path = self.config.local_data_file\n",
    "\n",
    "        if not os.path.exists(zip_file_path):\n",
    "            raise FileNotFoundError(f\"Zip file not found at {zip_file_path}\")\n",
    "        try:\n",
    "            with zipfile.ZipFile(zip_file_path, 'r') as zip_ref:\n",
    "                zip_ref.extractall(unzip_path)\n",
    "                logger.info(f\"Extracted zip file to {unzip_path}\")\n",
    "                \n",
    "        except zipfile.BadZipFile as e:\n",
    "            logger.error(f\"Error extracting zip file: {e}\")\n",
    "            raise ValueError(\"Failed to extract zip file\")"
   ]
  },
  {
   "cell_type": "markdown",
   "metadata": {},
   "source": [
    "### Update the pipeline"
   ]
  },
  {
   "cell_type": "code",
   "execution_count": 8,
   "metadata": {},
   "outputs": [
    {
     "name": "stdout",
     "output_type": "stream",
     "text": [
      "[2023-10-10 14:35:43,217: INFO: common: YAML file: config\\config.yaml loaded successfully]\n",
      "[2023-10-10 14:35:43,230: INFO: common: YAML file: params.yaml loaded successfully]\n",
      "[2023-10-10 14:35:43,237: INFO: common: Created directory at: artifacts]\n",
      "[2023-10-10 14:35:43,269: INFO: common: Created directory at: artifacts/data_ingestion]\n",
      "[2023-10-10 14:35:43,279: INFO: 3505116073: Downloading data from https://drive.google.com/file/d/17bCzkEA2IdlnW8T1HoFTPdBAxhx9r4kk/view?usp=sharing into file artifacts/data_ingestion/data.zip]\n"
     ]
    },
    {
     "name": "stderr",
     "output_type": "stream",
     "text": [
      "Downloading...\n",
      "From (uriginal): https://drive.google.com/uc?/export=download&id=17bCzkEA2IdlnW8T1HoFTPdBAxhx9r4kk\n",
      "From (redirected): https://drive.google.com/uc?/export=download&id=17bCzkEA2IdlnW8T1HoFTPdBAxhx9r4kk&confirm=t&uuid=ae305d67-ccb8-49b2-82db-58049c7e8d29\n",
      "To: n:\\DataScience\\MyProjects\\DeepLearning-Project-With-MLFlow-DVC-Deployment\\artifacts\\data_ingestion\\data.zip\n",
      "100%|██████████| 1.63G/1.63G [05:57<00:00, 4.55MB/s]  "
     ]
    },
    {
     "name": "stdout",
     "output_type": "stream",
     "text": [
      "[2023-10-10 14:41:43,543: INFO: 3505116073: Downloaded data from https://drive.google.com/file/d/17bCzkEA2IdlnW8T1HoFTPdBAxhx9r4kk/view?usp=sharing into file artifacts/data_ingestion/data.zip]\n"
     ]
    },
    {
     "name": "stderr",
     "output_type": "stream",
     "text": [
      "\n"
     ]
    },
    {
     "name": "stdout",
     "output_type": "stream",
     "text": [
      "[2023-10-10 15:03:45,133: INFO: 3505116073: Extracted zip file to artifacts/data_ingestion]\n"
     ]
    }
   ],
   "source": [
    "try:\n",
    "    config = ConfigurationManager()\n",
    "    data_ingestion_config = config.get_data_ingestion_config()\n",
    "    data_ingestion = DataIngestion(config=data_ingestion_config)\n",
    "    data_ingestion.download_file()\n",
    "    data_ingestion.extract_zip_file()\n",
    "except Exception as e:\n",
    "    raise e"
   ]
  },
  {
   "cell_type": "code",
   "execution_count": null,
   "metadata": {},
   "outputs": [],
   "source": []
  }
 ],
 "metadata": {
  "kernelspec": {
   "display_name": "venv",
   "language": "python",
   "name": "python3"
  },
  "language_info": {
   "codemirror_mode": {
    "name": "ipython",
    "version": 3
   },
   "file_extension": ".py",
   "mimetype": "text/x-python",
   "name": "python",
   "nbconvert_exporter": "python",
   "pygments_lexer": "ipython3",
   "version": "3.10.4"
  },
  "orig_nbformat": 4
 },
 "nbformat": 4,
 "nbformat_minor": 2
}
